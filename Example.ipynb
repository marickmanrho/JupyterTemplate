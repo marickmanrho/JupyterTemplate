{
 "cells": [
  {
   "cell_type": "markdown",
   "metadata": {},
   "source": [
    "# Jupyter notebook template\n",
    "\n",
    "This is a template file for scientific projects.\n",
    "\n",
    "The project leans heavilly on the excellent review of [Julius Schultz](http://blog.juliusschulz.de/blog/ultimate-ipython-notebook) and uses the template from [Michael Goerz](https://michaelgoerz.net/notes/custom-template-for-converting-jupyter-notebooks-to-latex.html).\n",
    "\n",
    "Jupyter notebooks are great as they allow you to write code together with text. \n",
    "\n",
    "## Simple output\n",
    "\n",
    "For example below is the function\n",
    "\n",
    "$$\n",
    "A = \\sum_{ij} \\delta_{i,j}\n",
    "$$\n",
    "\n",
    "where $\\delta_{i,j}$ is the Kronecker delta function.\n",
    "\n",
    "Citations also work by the way <cite data-cite=\"6525236/3YFH4UGU\"></cite> <cite data-cite=\"6525236/WZLNXIRF\"></cite>."
   ]
  },
  {
   "cell_type": "code",
   "execution_count": 1,
   "metadata": {},
   "outputs": [
    {
     "name": "stdout",
     "output_type": "stream",
     "text": [
      "[[1. 0. 0. 0. 0. 0. 0. 0. 0. 0.]\n",
      " [0. 1. 0. 0. 0. 0. 0. 0. 0. 0.]\n",
      " [0. 0. 1. 0. 0. 0. 0. 0. 0. 0.]\n",
      " [0. 0. 0. 1. 0. 0. 0. 0. 0. 0.]\n",
      " [0. 0. 0. 0. 1. 0. 0. 0. 0. 0.]\n",
      " [0. 0. 0. 0. 0. 1. 0. 0. 0. 0.]\n",
      " [0. 0. 0. 0. 0. 0. 1. 0. 0. 0.]\n",
      " [0. 0. 0. 0. 0. 0. 0. 1. 0. 0.]\n",
      " [0. 0. 0. 0. 0. 0. 0. 0. 1. 0.]\n",
      " [0. 0. 0. 0. 0. 0. 0. 0. 0. 1.]]\n"
     ]
    }
   ],
   "source": [
    "# Here is some demo code\n",
    "import numpy as np\n",
    "\n",
    "A = np.eye(10)\n",
    "print(A)"
   ]
  },
  {
   "cell_type": "markdown",
   "metadata": {},
   "source": [
    "## MD Analysis\n",
    "\n",
    "This output doesn't show in pdf format. But is very handy in html exports. \n",
    "\n",
    "#### MAKE SURE TO SAVE THE WIDGET STATE!!!\n",
    "To do this go to `Widgets-> Save Notebook Widget State`"
   ]
  },
  {
   "cell_type": "code",
   "execution_count": 2,
   "metadata": {},
   "outputs": [
    {
     "data": {
      "application/vnd.jupyter.widget-view+json": {
       "model_id": "125497edae0744b7a4deef1ca9ca74b6",
       "version_major": 2,
       "version_minor": 0
      },
      "text/plain": []
     },
     "metadata": {},
     "output_type": "display_data"
    },
    {
     "name": "stderr",
     "output_type": "stream",
     "text": [
      "/home/marick/anaconda3/lib/python3.8/site-packages/MDAnalysis/topology/PDBParser.py:330: UserWarning: Element information is absent or missing for a few atoms. Elements attributes will not be populated.\n",
      "  warnings.warn(\"Element information is absent or missing for a few \"\n"
     ]
    },
    {
     "data": {
      "application/vnd.jupyter.widget-view+json": {
       "model_id": "680d39c4ffe641f4a1662c863db9251e",
       "version_major": 2,
       "version_minor": 0
      },
      "text/plain": [
       "NGLWidget(max_frame=50)"
      ]
     },
     "metadata": {},
     "output_type": "display_data"
    }
   ],
   "source": [
    "# MD analysis example\n",
    "import MDAnalysis as mda\n",
    "import nglview as nv\n",
    "from nglview.datafiles import PDB, XTC\n",
    "\n",
    "u = mda.Universe(PDB, XTC)\n",
    "\n",
    "protein = u.select_atoms('protein')\n",
    "\n",
    "view = nv.show_mdanalysis(protein)\n",
    "view"
   ]
  },
  {
   "cell_type": "markdown",
   "metadata": {},
   "source": [
    "## Matplotlib\n",
    "\n",
    "And a matplotlib example"
   ]
  },
  {
   "cell_type": "code",
   "execution_count": 3,
   "metadata": {},
   "outputs": [
    {
     "data": {
      "image/png": "[encoded data removed]",
      "text/plain": [
       "<Figure size 432x288 with 1 Axes>"
      ]
     },
     "metadata": {
      "needs_background": "light"
     },
     "output_type": "display_data"
    }
   ],
   "source": [
    "# Matplotlib example\n",
    "import numpy as np\n",
    "import matplotlib.pyplot as plt\n",
    "\n",
    "x = np.linspace(-10,10,100)\n",
    "y = 0.5*x**3 + 2*x**2 + 1\n",
    "\n",
    "plt.plot(x,y)\n",
    "plt.show()"
   ]
  },
  {
   "cell_type": "markdown",
   "metadata": {},
   "source": [
    "## References\n",
    "<div class=\"cite2c-biblio\"></div>"
   ]
  }
 ],
 "metadata": {
  "cite2c": {
   "citations": {
    "6525236/3YFH4UGU": {
     "DOI": "10.1021/jp064795t",
     "URL": "https://doi.org/10.1021/jp064795t",
     "abstract": "A method of simulating two-dimensional infrared spectra accounting for nonadiabatic effects is presented. The method is applied to the amide I modes of a dipeptide. The information necessary to construct the time-dependent Hamiltonian for the system is extracted from molecular dynamics simulations using a recently published ab initio-based model. It is shown that the linear absorption spectrum agrees with experiment only if the nonadiabatic effects are accounted for. The two-dimensional infrared spectrum is predicted for a range of mixing times. It is shown that population transfer between the amide I site vibrations affects the anisotropy at longer mixing times. It is also demonstrated that the population transfer can, to a good approximation, be extracted from the simulated spectra using a procedure that should also be applicable to experimental spectra.",
     "accessed": {
      "day": 20,
      "month": 10,
      "year": 2020
     },
     "author": [
      {
       "family": "Jansen",
       "given": "Thomas la Cour"
      },
      {
       "family": "Knoester",
       "given": "Jasper"
      }
     ],
     "container-title": "The Journal of Physical Chemistry B",
     "container-title-short": "J. Phys. Chem. B",
     "id": "6525236/3YFH4UGU",
     "issue": "45",
     "issued": {
      "day": 1,
      "month": 11,
      "year": 2006
     },
     "journalAbbreviation": "J. Phys. Chem. B",
     "note": "Publisher: American Chemical Society",
     "page": "22910-22916",
     "page-first": "22910",
     "shortTitle": "Nonadiabatic Effects in the Two-Dimensional Infrared Spectra of Peptides",
     "title": "Nonadiabatic Effects in the Two-Dimensional Infrared Spectra of Peptides:  Application to Alanine Dipeptide",
     "title-short": "Nonadiabatic Effects in the Two-Dimensional Infrared Spectra of Peptides",
     "type": "article-journal",
     "volume": "110"
    },
    "6525236/WZLNXIRF": {
     "DOI": "10.1021/acs.chemrev.7b00581",
     "URL": "https://doi.org/10.1021/acs.chemrev.7b00581",
     "abstract": "The electronic excited states of molecular aggregates and their photophysical signatures have long fascinated spectroscopists and theoreticians alike since the advent of Frenkel exciton theory almost 90 years ago. The influence of molecular packing on basic optical probes like absorption and photoluminescence was originally worked out by Kasha for aggregates dominated by Coulombic intermolecular interactions, eventually leading to the classification of J- and H-aggregates. This review outlines advances made in understanding the relationship between aggregate structure and photophysics when vibronic coupling and intermolecular charge transfer are incorporated. An assortment of packing geometries is considered from the humble molecular dimer to more exotic structures including linear and bent aggregates, two-dimensional herringbone and “HJ” aggregates, and chiral aggregates. The interplay between long-range Coulomb coupling and short-range charge-transfer-mediated coupling strongly depends on the aggregate architecture leading to a wide array of photophysical behaviors.",
     "accessed": {
      "day": 29,
      "month": 11,
      "year": 2020
     },
     "author": [
      {
       "family": "Hestand",
       "given": "Nicholas J."
      },
      {
       "family": "Spano",
       "given": "Frank C."
      }
     ],
     "container-title": "Chemical Reviews",
     "container-title-short": "Chem. Rev.",
     "id": "6525236/WZLNXIRF",
     "issue": "15",
     "issued": {
      "day": 8,
      "month": 8,
      "year": 2018
     },
     "journalAbbreviation": "Chem. Rev.",
     "note": "Publisher: American Chemical Society",
     "page": "7069-7163",
     "page-first": "7069",
     "shortTitle": "Expanded Theory of H- and J-Molecular Aggregates",
     "title": "Expanded Theory of H- and J-Molecular Aggregates: The Effects of Vibronic Coupling and Intermolecular Charge Transfer",
     "title-short": "Expanded Theory of H- and J-Molecular Aggregates",
     "type": "article-journal",
     "volume": "118"
    }
   }
  },
  "kernelspec": {
   "display_name": "Python 3",
   "language": "python",
   "name": "python3"
  },
  "language_info": {
   "codemirror_mode": {
    "name": "ipython",
    "version": 3
   },
   "file_extension": ".py",
   "mimetype": "text/x-python",
   "name": "python",
   "nbconvert_exporter": "python",
   "pygments_lexer": "ipython3",
   "version": "3.8.3"
  },
  "latex_metadata": {
   "affiliation": "University of Groningen, Zernike institute for advanced materials, Nijenborg 4 Groningen, The Netherlands",
   "author": "Marick Manrho",
   "title": "template"
  }
 },
 "nbformat": 4,
 "nbformat_minor": 4
}
